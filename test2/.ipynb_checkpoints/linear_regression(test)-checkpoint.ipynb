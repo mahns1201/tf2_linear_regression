{
 "cells": [
  {
   "cell_type": "code",
   "execution_count": 19,
   "metadata": {},
   "outputs": [],
   "source": [
    "import tensorflow as tf\n",
    "import numpy as np\n",
    "import matplotlib.pyplot as plt"
   ]
  },
  {
   "cell_type": "code",
   "execution_count": 20,
   "metadata": {},
   "outputs": [],
   "source": [
    "rng = np.random"
   ]
  },
  {
   "cell_type": "code",
   "execution_count": 21,
   "metadata": {},
   "outputs": [],
   "source": [
    "learning_rate = 0.01\n",
    "trainning_steps = 1000\n",
    "display_step = 50"
   ]
  },
  {
   "cell_type": "code",
   "execution_count": 22,
   "metadata": {},
   "outputs": [
    {
     "name": "stdout",
     "output_type": "stream",
     "text": [
      "17\n"
     ]
    }
   ],
   "source": [
    "x_data = np.array([3.3, 4.4, 5.5, 6.71, 6.93, 4.168, 9.779, 6.182, 7.59, 2.167, 7.042, 10.791, 5.313, 7.997, 5.654, 9.27, 3.1])\n",
    "y_data = np.array([1.7, 2.76, 2.09, 3.19, 1.694, 1.573, 3.366, 2.596, 2.53, 1.221, 2.827, 3.465, 1.65, 2.904, 2.52, 2.94, 1.3])\n",
    "\n",
    "n_samples = x_data.shape[0]\n",
    "print(n_samples)"
   ]
  },
  {
   "cell_type": "code",
   "execution_count": 23,
   "metadata": {},
   "outputs": [],
   "source": [
    "W = tf.Variable(rng.random(), name = 'weight')\n",
    "b = tf.Variable(rng.random(), name = 'bias')"
   ]
  },
  {
   "cell_type": "code",
   "execution_count": 24,
   "metadata": {},
   "outputs": [],
   "source": [
    "def linear_regression(x):\n",
    "    return W * x + b\n",
    "\n",
    "def mean_square(y_pred, y_true):\n",
    "    return tf.reduce_sum(tf.pow(y_pred - y_true, 2)) / (2 * n_samples)\n",
    "\n",
    "optimizer = tf.optimizers.SGD(learning_rate)"
   ]
  },
  {
   "cell_type": "code",
   "execution_count": 25,
   "metadata": {},
   "outputs": [],
   "source": [
    "def run_optimization():\n",
    "    with tf.GradientTape() as g:\n",
    "        pred = linear_regression(x_data)\n",
    "        loss = mean_square(pred, y_data)\n",
    "    \n",
    "    gradients = g.gradient(loss, [W, b])\n",
    "\n",
    "    optimizer.apply_gradients(zip(gradients, [W, b]))"
   ]
  },
  {
   "cell_type": "code",
   "execution_count": 26,
   "metadata": {},
   "outputs": [
    {
     "name": "stdout",
     "output_type": "stream",
     "text": [
      "step: 50, loss: 0.087320, W: 0.304646, b: 0.428326\n",
      "step: 100, loss: 0.086296, W: 0.301486, b: 0.450728\n",
      "step: 150, loss: 0.085390, W: 0.298513, b: 0.471810\n",
      "step: 200, loss: 0.084587, W: 0.295714, b: 0.491649\n",
      "step: 250, loss: 0.083876, W: 0.293081, b: 0.510320\n",
      "step: 300, loss: 0.083247, W: 0.290602, b: 0.527891\n",
      "step: 350, loss: 0.082689, W: 0.288270, b: 0.544426\n",
      "step: 400, loss: 0.082196, W: 0.286075, b: 0.559987\n",
      "step: 450, loss: 0.081758, W: 0.284010, b: 0.574632\n",
      "step: 500, loss: 0.081371, W: 0.282066, b: 0.588413\n",
      "step: 550, loss: 0.081028, W: 0.280236, b: 0.601382\n",
      "step: 600, loss: 0.080724, W: 0.278515, b: 0.613587\n",
      "step: 650, loss: 0.080455, W: 0.276895, b: 0.625073\n",
      "step: 700, loss: 0.080217, W: 0.275370, b: 0.635882\n",
      "step: 750, loss: 0.080006, W: 0.273935, b: 0.646055\n",
      "step: 800, loss: 0.079819, W: 0.272585, b: 0.655628\n",
      "step: 850, loss: 0.079654, W: 0.271314, b: 0.664637\n",
      "step: 900, loss: 0.079507, W: 0.270118, b: 0.673115\n",
      "step: 950, loss: 0.079377, W: 0.268993, b: 0.681094\n",
      "step: 1000, loss: 0.079262, W: 0.267934, b: 0.688602\n"
     ]
    }
   ],
   "source": [
    "for step in range(1, trainning_steps + 1):\n",
    "    run_optimization()\n",
    "    \n",
    "    if step % display_step == 0:\n",
    "        pred = linear_regression(x_data)\n",
    "        loss = mean_square(pred, y_data)\n",
    "        \n",
    "        print(\"step: %i, loss: %f, W: %f, b: %f\" % (step, loss, W.numpy(), b.numpy()))"
   ]
  },
  {
   "cell_type": "code",
   "execution_count": 29,
   "metadata": {},
   "outputs": [
    {
     "data": {
      "image/png": "[encoded data removed]",
      "text/plain": [
       "<Figure size 432x288 with 1 Axes>"
      ]
     },
     "metadata": {
      "needs_background": "light"
     },
     "output_type": "display_data"
    }
   ],
   "source": [
    "plt.plot(x_data, y_data, 'ro', label = 'Original data')\n",
    "plt.plot(x_data, np.array(W * x_data + b), label = 'Fitted line')\n",
    "plt.legend()\n",
    "plt.show()"
   ]
  },
  {
   "cell_type": "code",
   "execution_count": null,
   "metadata": {},
   "outputs": [],
   "source": []
  },
  {
   "cell_type": "code",
   "execution_count": null,
   "metadata": {},
   "outputs": [],
   "source": []
  }
 ],
 "metadata": {
  "kernelspec": {
   "display_name": "Python 3",
   "language": "python",
   "name": "python3"
  },
  "language_info": {
   "codemirror_mode": {
    "name": "ipython",
    "version": 3
   },
   "file_extension": ".py",
   "mimetype": "text/x-python",
   "name": "python",
   "nbconvert_exporter": "python",
   "pygments_lexer": "ipython3",
   "version": "3.7.7"
  }
 },
 "nbformat": 4,
 "nbformat_minor": 4
}
